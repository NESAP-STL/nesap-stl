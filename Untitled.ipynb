{
 "cells": [
  {
   "cell_type": "code",
   "execution_count": 3,
   "metadata": {},
   "outputs": [
    {
     "name": "stdout",
     "output_type": "stream",
     "text": [
      "Defaulting to user installation because normal site-packages is not writeable\n",
      "Requirement already satisfied: numpy in /Library/Python/3.7/site-packages (from -r requirements.txt (line 2)) (1.17.3)\n",
      "Requirement already satisfied: PyYAML in /Users/hanseunghyeon/Library/Python/3.7/lib/python/site-packages (from -r requirements.txt (line 3)) (5.4.1)\n",
      "Collecting pandas\n",
      "  Downloading pandas-1.2.5-cp37-cp37m-macosx_10_9_x86_64.whl (10.4 MB)\n",
      "\u001b[K     |████████████████████████████████| 10.4 MB 8.1 MB/s eta 0:00:01\n",
      "\u001b[?25hRequirement already satisfied: numpy in /Library/Python/3.7/site-packages (from -r requirements.txt (line 2)) (1.17.3)\n",
      "Requirement already satisfied: python-dateutil>=2.7.3 in /Library/Python/3.7/site-packages (from pandas->-r requirements.txt (line 4)) (2.8.1)\n",
      "Collecting torch==1.8.0\n",
      "  Using cached torch-1.8.0-cp37-none-macosx_10_9_x86_64.whl (119.5 MB)\n",
      "Requirement already satisfied: numpy in /Library/Python/3.7/site-packages (from -r requirements.txt (line 2)) (1.17.3)\n",
      "Requirement already satisfied: typing-extensions in /Users/hanseunghyeon/Library/Python/3.7/lib/python/site-packages (from torch==1.8.0->-r requirements.txt (line 1)) (3.7.4.3)\n",
      "Collecting torchvision\n",
      "  Downloading torchvision-0.10.0-cp37-cp37m-macosx_10_9_x86_64.whl (13.9 MB)\n",
      "\u001b[K     |████████████████████████████████| 13.9 MB 11.6 MB/s eta 0:00:01\n",
      "\u001b[?25hRequirement already satisfied: numpy in /Library/Python/3.7/site-packages (from -r requirements.txt (line 2)) (1.17.3)\n",
      "Requirement already satisfied: pillow>=5.3.0 in /Users/hanseunghyeon/Library/Python/3.7/lib/python/site-packages (from torchvision->-r requirements.txt (line 5)) (8.1.2)\n",
      "  Using cached torchvision-0.9.1-cp37-cp37m-macosx_10_9_x86_64.whl (13.2 MB)\n",
      "Requirement already satisfied: numpy in /Library/Python/3.7/site-packages (from -r requirements.txt (line 2)) (1.17.3)\n",
      "  Downloading torchvision-0.9.0-cp37-cp37m-macosx_10_9_x86_64.whl (13.2 MB)\n",
      "\u001b[K     |████████████████████████████████| 13.2 MB 11.8 MB/s eta 0:00:01\n",
      "\u001b[?25hRequirement already satisfied: numpy in /Library/Python/3.7/site-packages (from -r requirements.txt (line 2)) (1.17.3)\n",
      "Requirement already satisfied: pillow>=4.1.1 in /Users/hanseunghyeon/Library/Python/3.7/lib/python/site-packages (from torchvision->-r requirements.txt (line 5)) (8.1.2)\n",
      "Requirement already satisfied: six>=1.5 in /Library/Developer/CommandLineTools/Library/Frameworks/Python3.framework/Versions/3.7/lib/python3.7/site-packages (from python-dateutil>=2.7.3->pandas->-r requirements.txt (line 4)) (1.12.0)\n",
      "Collecting pytz>=2017.3\n",
      "  Using cached pytz-2021.1-py2.py3-none-any.whl (510 kB)\n",
      "Installing collected packages: torch, pytz, torchvision, pandas\n",
      "\u001b[33m  WARNING: The scripts convert-caffe2-to-onnx and convert-onnx-to-caffe2 are installed in '/Users/hanseunghyeon/Library/Python/3.7/bin' which is not on PATH.\n",
      "  Consider adding this directory to PATH or, if you prefer to suppress this warning, use --no-warn-script-location.\u001b[0m\n",
      "Successfully installed pandas-1.2.5 pytz-2021.1 torch-1.8.0 torchvision-0.9.0\n",
      "\u001b[33mWARNING: You are using pip version 20.3.1; however, version 21.1.3 is available.\n",
      "You should consider upgrading via the '/Library/Developer/CommandLineTools/usr/bin/python3 -m pip install --upgrade pip' command.\u001b[0m\n"
     ]
    }
   ],
   "source": [
    "!pip install -r requirements.txt"
   ]
  },
  {
   "cell_type": "code",
   "execution_count": 4,
   "metadata": {},
   "outputs": [],
   "source": [
    "\"\"\"\n",
    "Main training script for NERSC PyTorch examples\n",
    "\"\"\"\n",
    "\n",
    "# System\n",
    "import os\n",
    "import argparse\n",
    "import logging\n",
    "\n",
    "# Externals\n",
    "import yaml\n",
    "import numpy as np\n",
    "\n",
    "# Locals\n",
    "from datasets import get_data_loaders\n",
    "from trainers import get_trainer\n",
    "from utils.logging import config_logging\n",
    "from utils.distributed import init_workers, try_barrier\n",
    "from models.predrnn_pp import PredRNNPP\n",
    "\n",
    "def parse_args():\n",
    "    \"\"\"Parse command line arguments.\"\"\"\n",
    "    parser = argparse.ArgumentParser()\n",
    "    add_arg = parser.add_argument\n",
    "    add_arg('config', nargs='?', default='configs/hello.yaml',\n",
    "            help='YAML configuration file')\n",
    "    add_arg('-d', '--distributed-backend', choices=['mpi', 'nccl', 'nccl-lsf', 'gloo'],\n",
    "            help='Specify the distributed backend to use')\n",
    "    add_arg('--gpu', type=int,\n",
    "            help='Choose a specific GPU by ID')\n",
    "    add_arg('--ranks-per-node', type=int, default=8,\n",
    "            help='Specifying number of ranks per node')\n",
    "    add_arg('--rank-gpu', action='store_true',\n",
    "            help='Choose GPU according to local rank')\n",
    "    add_arg('--resume', action='store_true',\n",
    "            help='Resume training from last checkpoint')\n",
    "    add_arg('-v', '--verbose', action='store_true',\n",
    "            help='Enable verbose logging')\n",
    "    return parser.parse_args()\n",
    "\n",
    "def load_config(config_file):\n",
    "    with open(config_file) as f:\n",
    "        config = yaml.load(f, Loader=yaml.FullLoader)\n",
    "    return config\n",
    "\n",
    "\n"
   ]
  },
  {
   "cell_type": "code",
   "execution_count": 7,
   "metadata": {},
   "outputs": [
    {
     "name": "stderr",
     "output_type": "stream",
     "text": [
      "usage: ipykernel_launcher.py [-h] [-d {mpi,nccl,nccl-lsf,gloo}] [--gpu GPU]\n",
      "                             [--ranks-per-node RANKS_PER_NODE] [--rank-gpu]\n",
      "                             [--resume] [-v]\n",
      "                             [config]\n",
      "ipykernel_launcher.py: error: unrecognized arguments: -f\n"
     ]
    },
    {
     "ename": "SystemExit",
     "evalue": "2",
     "output_type": "error",
     "traceback": [
      "An exception has occurred, use %tb to see the full traceback.\n",
      "\u001b[0;31mSystemExit\u001b[0m\u001b[0;31m:\u001b[0m 2\n"
     ]
    }
   ],
   "source": [
    "# Initialization\n",
    "args = parse_args()\n",
    "rank, n_ranks = init_workers(args.distributed_backend)"
   ]
  },
  {
   "cell_type": "code",
   "execution_count": 8,
   "metadata": {},
   "outputs": [
    {
     "data": {
      "text/plain": [
       "'/Users/hanseunghyeon/Documents/GitHub/nesap-stl'"
      ]
     },
     "execution_count": 8,
     "metadata": {},
     "output_type": "execute_result"
    }
   ],
   "source": [
    "pwd"
   ]
  },
  {
   "cell_type": "code",
   "execution_count": null,
   "metadata": {},
   "outputs": [],
   "source": []
  }
 ],
 "metadata": {
  "kernelspec": {
   "display_name": "Python 3",
   "language": "python",
   "name": "python3"
  },
  "language_info": {
   "codemirror_mode": {
    "name": "ipython",
    "version": 3
   },
   "file_extension": ".py",
   "mimetype": "text/x-python",
   "name": "python",
   "nbconvert_exporter": "python",
   "pygments_lexer": "ipython3",
   "version": "3.7.3"
  }
 },
 "nbformat": 4,
 "nbformat_minor": 4
}
